{
 "cells": [
  {
   "cell_type": "code",
   "execution_count": 1,
   "metadata": {},
   "outputs": [],
   "source": [
    "# Import libraries\n",
    "import pandas as pd\n",
    "import numpy as np\n",
    "from sklearn import model_selection\n",
    "from sklearn.linear_model import LogisticRegression\n",
    "from sklearn import metrics\n",
    "from sklearn.preprocessing import StandardScaler\n",
    "%matplotlib inline\n",
    "import warnings\n",
    "warnings.filterwarnings(\"ignore\")\n",
    "# Settings\n",
    "import sys\n",
    "sys.path.append('../src')\n",
    "# Import feature engineering functions\n",
    "from preprocessing import preprocess_data, drop_columns"
   ]
  },
  {
   "cell_type": "code",
   "execution_count": 2,
   "metadata": {},
   "outputs": [],
   "source": [
    "# DATA INGESTION\n",
    "\n",
    "# Fetch the data\n",
    "train_df = pd.read_csv('../data/train.csv')\n",
    "test_df = pd.read_csv('../data/test.csv')"
   ]
  },
  {
   "cell_type": "code",
   "execution_count": 3,
   "metadata": {},
   "outputs": [],
   "source": [
    "# PREPROCESSING\n",
    "\n",
    "# Create a fake Survived column for test data\n",
    "test_df.loc[:,\"Survived\"] = -1"
   ]
  },
  {
   "cell_type": "code",
   "execution_count": 4,
   "metadata": {},
   "outputs": [],
   "source": [
    "# Concatenate both training and test data\n",
    "data = pd.concat([train_df,test_df]).reset_index(drop=True)"
   ]
  },
  {
   "cell_type": "code",
   "execution_count": 5,
   "metadata": {},
   "outputs": [
    {
     "data": {},
     "execution_count": 5,
     "metadata": {},
     "output_type": "execute_result"
    }
   ],
   "source": [
    "# Check the DataFrame\n",
    "data.tail(10)"
   ]
  },
  {
   "cell_type": "code",
   "execution_count": 6,
   "metadata": {},
   "outputs": [],
   "source": [
    "# FEATURE ENGINEERING\n",
    "data = preprocess_data(data)"
   ]
  },
  {
   "cell_type": "code",
   "execution_count": 7,
   "metadata": {},
   "outputs": [
    {
     "data": {},
     "execution_count": 7,
     "metadata": {},
     "output_type": "execute_result"
    }
   ],
   "source": [
    "data"
   ]
  },
  {
   "cell_type": "code",
   "execution_count": 8,
   "metadata": {},
   "outputs": [
    {
     "data": {},
     "execution_count": 8,
     "metadata": {},
     "output_type": "execute_result"
    }
   ],
   "source": [
    "data.isnull().sum()"
   ]
  },
  {
   "cell_type": "code",
   "execution_count": 9,
   "metadata": {},
   "outputs": [],
   "source": [
    "data = drop_columns(data)"
   ]
  },
  {
   "cell_type": "code",
   "execution_count": null,
   "metadata": {},
   "outputs": [],
   "source": [
    "\n",
    "# Drop the columns\n",
    "#data.drop(['Embarked', 'SibSp', 'Parch'], axis=1, inplace=True) #,'SibSp','Parch'"
   ]
  },
  {
   "cell_type": "code",
   "execution_count": null,
   "metadata": {},
   "outputs": [],
   "source": [
    "\n",
    "# Convert categorical variables or the ones that represent such ('Pclass') to dummy/numerical variables (one-hot encoding)\n",
    "#data = pd.get_dummies(data, columns=['Sex','Pclass'], dtype=int, drop_first=True) # drop_first to avoid collinearity #'Embarked', 'Sex', 'AgeGroup','Pclass'"
   ]
  },
  {
   "cell_type": "code",
   "execution_count": 10,
   "metadata": {},
   "outputs": [],
   "source": [
    "# split the training and test data again\n",
    "train_df = data[data.Survived != -1].reset_index(drop=True) \n",
    "test_df = data[data.Survived == -1].reset_index(drop=True)"
   ]
  },
  {
   "cell_type": "code",
   "execution_count": 11,
   "metadata": {},
   "outputs": [
    {
     "data": {},
     "execution_count": 11,
     "metadata": {},
     "output_type": "execute_result"
    }
   ],
   "source": [
    "test_df.head(5)"
   ]
  },
  {
   "cell_type": "code",
   "execution_count": 12,
   "metadata": {},
   "outputs": [
    {
     "data": {},
     "execution_count": 12,
     "metadata": {},
     "output_type": "execute_result"
    }
   ],
   "source": [
    "train_df.head(5)"
   ]
  },
  {
   "cell_type": "code",
   "execution_count": 13,
   "metadata": {},
   "outputs": [],
   "source": [
    "# CROSS-VALIDATION\n",
    "# We create a new column called kfold and fill it with -1\n",
    "train_df['kfold'] = -1\n",
    "\n",
    "# The next step is to randomize the rows of the data\n",
    "train_df = train_df.sample(frac=1,random_state=32).reset_index(drop=True)\n",
    "\n",
    "# Fetch the targets\n",
    "y = train_df.Survived.values\n",
    "\n",
    "# Inititate the kfold class\n",
    "kf = model_selection.StratifiedKFold(n_splits=5)\n",
    "\n",
    "# fill the new kfold column\n",
    "for f, (t_, v_) in enumerate(kf.split(X=train_df,y=y)):\n",
    "    train_df.loc[v_,'kfold'] = f"
   ]
  },
  {
   "cell_type": "code",
   "execution_count": 14,
   "metadata": {},
   "outputs": [
    {
     "data": {},
     "execution_count": 14,
     "metadata": {},
     "output_type": "execute_result"
    }
   ],
   "source": [
    "train_df.head()"
   ]
  },
  {
   "cell_type": "code",
   "execution_count": 15,
   "metadata": {},
   "outputs": [
    {
     "name": "stdout",
     "output_type": "stream",
     "text": []
    }
   ],
   "source": [
    "# Collect accuracies\n",
    "lst = []\n",
    "\n",
    "# Loop folds\n",
    "for fold in range(0,5):\n",
    "    # Training data is where kfold is not equal to provided fold\n",
    "    df_train = train_df[train_df.kfold != fold].reset_index(drop=True)\n",
    "    \n",
    "    # Validation data is where kfold is equal to provided fold\n",
    "    df_valid = train_df[train_df.kfold == fold].reset_index(drop=True)\n",
    "\n",
    "    # Drop the Survived and kfold column from dataframe and convert it to a numpy array\n",
    "    x_train = df_train.drop(['Survived','kfold'],axis=1).values\n",
    "    y_train = df_train.Survived.values\n",
    "\n",
    "    # Similarly, for validation\n",
    "    x_valid = df_valid.drop(['Survived','kfold'],axis=1).values\n",
    "    y_valid = df_valid.Survived.values\n",
    "\n",
    "    scaler = StandardScaler() # Solved ConvergenceWarning\n",
    "    x_train = scaler.fit_transform(x_train)\n",
    "    x_valid = scaler.transform(x_valid)\n",
    "\n",
    "    # INITIALIZE THE MODEL & FINE-TUNING\n",
    "    model = LogisticRegression(max_iter=1000, random_state=32)\n",
    "    # Fit the model on training data\n",
    "    model.fit(x_train,y_train)\n",
    "\n",
    "    # Create predictions for validations samples\n",
    "    preds = model.predict(x_valid)\n",
    "\n",
    "    # Calculate & print accuracy\n",
    "    accuracy = metrics.accuracy_score(y_valid,preds)\n",
    "    print(f\"Fold = {fold}, Accuracy = {accuracy}\")\n",
    "\n",
    "    lst.append(accuracy)"
   ]
  },
  {
   "cell_type": "code",
   "execution_count": 16,
   "metadata": {},
   "outputs": [
    {
     "name": "stdout",
     "output_type": "stream",
     "text": []
    }
   ],
   "source": [
    "Average = sum(lst) / len(lst) \n",
    "print(f\"Average accuracy = {Average}\")"
   ]
  },
  {
   "cell_type": "code",
   "execution_count": 17,
   "metadata": {},
   "outputs": [],
   "source": [
    "# Make predictions on the test data\n",
    "#test_predictions = model.predict(test_df.drop('Survived',axis=1).values)"
   ]
  },
  {
   "cell_type": "code",
   "execution_count": 18,
   "metadata": {},
   "outputs": [],
   "source": [
    "# Make predictions on the test data using predict_proba to get probabilities\n",
    "test_probabilities = model.predict_proba(test_df.drop('Survived', axis=1).values)[:, 1]\n",
    "\n",
    "# Set a custom threshold (e.g., 0.3) to predict class labels instead of default 0.5\n",
    "custom_threshold = 0.5 # lower threshold - capturing more survivors; higher threshold - stricter about predicting survival.\n",
    "test_predictions = (test_probabilities >= custom_threshold).astype(int)"
   ]
  },
  {
   "cell_type": "code",
   "execution_count": 19,
   "metadata": {},
   "outputs": [
    {
     "data": {},
     "execution_count": 19,
     "metadata": {},
     "output_type": "execute_result"
    }
   ],
   "source": [
    "# Prepare the submission file\n",
    "submission = pd.read_csv('../data/submission.csv')\n",
    "submission['Survived'] = test_predictions\n",
    "submission.tail(60)"
   ]
  },
  {
   "cell_type": "code",
   "execution_count": 20,
   "metadata": {},
   "outputs": [
    {
     "name": "stdout",
     "output_type": "stream",
     "text": []
    }
   ],
   "source": [
    "# Save to CSV\n",
    "submission.to_csv('../data/submission.csv', index=False)\n",
    "print(\"Submission file saved as 'submission.csv'.\")"
   ]
  }
 ],
 "metadata": {
  "kernelspec": {
   "display_name": ".venv",
   "language": "python",
   "name": "python3"
  },
  "language_info": {
   "codemirror_mode": {
    "name": "ipython",
    "version": 3
   },
   "file_extension": ".py",
   "mimetype": "text/x-python",
   "name": "python",
   "nbconvert_exporter": "python",
   "pygments_lexer": "ipython3",
   "version": "3.12.6"
  }
 },
 "nbformat": 4,
 "nbformat_minor": 2
}
